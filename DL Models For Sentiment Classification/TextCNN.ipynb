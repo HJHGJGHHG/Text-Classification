{
 "cells": [
  {
   "cell_type": "code",
   "execution_count": 1,
   "metadata": {
    "collapsed": true
   },
   "outputs": [],
   "source": [
    "from torchtext.legacy.data import Field, TabularDataset, Iterator\n",
    "\n",
    "import models\n",
    "import train\n",
    "import dataset\n",
    "import config"
   ]
  },
  {
   "cell_type": "code",
   "execution_count": 2,
   "outputs": [],
   "source": [
    "# 调参\n",
    "args = config.args_initialization()\n",
    "\n",
    "args.save_dir = \"D:/python/pyprojects/NLP/Text Classification/model/TextCNN\"\n",
    "\n",
    "args.epochs = 20\n",
    "args.static = True\n",
    "args.non_static = True\n",
    "args.multichannel = True\n",
    "\n",
    "args.multilabel = False\n",
    "args.labels = [\"sentiment\"]\n",
    "args.class_num = [2]"
   ],
   "metadata": {
    "collapsed": false,
    "pycharm": {
     "name": "#%%\n"
    }
   }
  },
  {
   "cell_type": "code",
   "execution_count": 3,
   "outputs": [
    {
     "name": "stdout",
     "output_type": "stream",
     "text": [
      "Loading data...\n"
     ]
    },
    {
     "name": "stderr",
     "output_type": "stream",
     "text": [
      "The `device` argument should be set by using `torch.device` or passing a string as an argument. This behavior will be deprecated soon and currently defaults to cpu.\n",
      "The `device` argument should be set by using `torch.device` or passing a string as an argument. This behavior will be deprecated soon and currently defaults to cpu.\n"
     ]
    },
    {
     "name": "stdout",
     "output_type": "stream",
     "text": [
      "Loding data successfully\n"
     ]
    }
   ],
   "source": [
    "print('Loading data...')\n",
    "text_field = Field()\n",
    "label_field = Field(sequential=False, use_vocab=False, unk_token=None)\n",
    "train_iter, dev_iter = dataset.load_dataset(text_field, label_field, args, device=-1, repeat=False, shuffle=True)\n",
    "print(\"Loding data successfully\")"
   ],
   "metadata": {
    "collapsed": false,
    "pycharm": {
     "name": "#%%\n"
    }
   }
  },
  {
   "cell_type": "code",
   "execution_count": 6,
   "outputs": [
    {
     "name": "stderr",
     "output_type": "stream",
     "text": [
      "D:\\Anaconda3\\lib\\site-packages\\torch\\nn\\functional.py:652: UserWarning: Named tensors and all their associated APIs are an experimental feature and subject to change. Please do not use them for anything important until they are released as stable. (Triggered internally at  ..\\c10/core/TensorImpl.h:1156.)\n",
      "  return torch.max_pool1d(input, kernel_size, stride, padding, dilation, ceil_mode)\n"
     ]
    }
   ],
   "source": [
    "import torch.nn.functional as F\n",
    "logits = text_cnn(feature)\n",
    "loss = F.cross_entropy(logits, target)"
   ],
   "metadata": {
    "collapsed": false,
    "pycharm": {
     "name": "#%%\n"
    }
   }
  },
  {
   "cell_type": "code",
   "execution_count": 5,
   "outputs": [
    {
     "name": "stdout",
     "output_type": "stream",
     "text": [
      "Model:TextCNN\n",
      "Parameters:\n",
      "\tBATCH_SIZE=128\n",
      "\tBERT_EPOCHS=3\n",
      "\tBERT_HIDDEN_SIZE=768\n",
      "\tBERT_LR=5e-05\n",
      "\tBERT_PRETRAINED=../../model/bert_pretrained\n",
      "\tCLASS_NUM=2\n",
      "\tCUDA=False\n",
      "\tDEVICE=-1\n",
      "\tDROPOUT=0.5\n",
      "\tEARLY_STOP=1000\n",
      "\tEMBEDDING_DIM=300\n",
      "\tEPOCHS=20\n",
      "\tERNIE_PRETRAINED=../../model/ernie_pretrained\n",
      "\tFILTER_NUM=100\n",
      "\tFILTER_SIZES=[1, 3, 5]\n",
      "\tHIDDEN_SIZE=50\n",
      "\tLABELS=['sentiment']\n",
      "\tLAYERS_NUM=1\n",
      "\tLR=0.001\n",
      "\tMAX_NORM=3.0\n",
      "\tMULTICHANNEL=True\n",
      "\tMULTILABEL=False\n",
      "\tNGRAM_VOCABULARY_SIZE=7877\n",
      "\tNON_STATIC=True\n",
      "\tPAD_SIZE=32\n",
      "\tPATH=../data/\n",
      "\tPRETRAINED_NAME=sgns.wiki.word\n",
      "\tPRETRAINED_PATH=D:/python/pyprojects/NLP/Text Classification/data/\n",
      "\tSAVE_DIR=D:/python/pyprojects/NLP/Text Classification/model/TextCNN\n",
      "\tSTATIC=True\n",
      "\tVOCABULARY_SIZE=7877\n"
     ]
    },
    {
     "data": {
      "text/plain": "'\\nif args.cuda:\\n    torch.cuda.set_device(args.device)\\n    text_cnn = text_cnn.cuda()\\n'"
     },
     "execution_count": 5,
     "metadata": {},
     "output_type": "execute_result"
    }
   ],
   "source": [
    "print(\"Model:TextCNN\")\n",
    "print(\"Parameters:\")\n",
    "for attr, value in sorted(args.__dict__.items()):\n",
    "    if attr in {'vectors'}:\n",
    "        continue\n",
    "    print('\\t{}={}'.format(attr.upper(), value))\n",
    "\n",
    "text_cnn = models.TextCNN(args)\n",
    "\"\"\"\n",
    "if args.cuda:\n",
    "    torch.cuda.set_device(args.device)\n",
    "    text_cnn = text_cnn.cuda()\n",
    "\"\"\"\n",
    "train.train(train_iter, dev_iter, text_cnn, args)"
   ],
   "metadata": {
    "collapsed": false,
    "pycharm": {
     "name": "#%%\n"
    }
   }
  }
 ],
 "metadata": {
  "kernelspec": {
   "display_name": "Python 3",
   "language": "python",
   "name": "python3"
  },
  "language_info": {
   "codemirror_mode": {
    "name": "ipython",
    "version": 2
   },
   "file_extension": ".py",
   "mimetype": "text/x-python",
   "name": "python",
   "nbconvert_exporter": "python",
   "pygments_lexer": "ipython2",
   "version": "2.7.6"
  }
 },
 "nbformat": 4,
 "nbformat_minor": 0
}