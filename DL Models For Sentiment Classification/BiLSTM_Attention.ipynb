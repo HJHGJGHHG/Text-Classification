{
 "cells": [
  {
   "cell_type": "code",
   "execution_count": 1,
   "metadata": {
    "collapsed": true
   },
   "outputs": [],
   "source": [
    "from torchtext.legacy.data import Field\n",
    "\n",
    "import model\n",
    "import train\n",
    "import dataset\n",
    "import config"
   ]
  },
  {
   "cell_type": "code",
   "execution_count": 2,
   "outputs": [],
   "source": [
    "args = config.args_initialization()\n",
    "\n",
    "args.save_dir = \"D:/python/pyprojects/NLP/Text Classification/model/BiLSTM_Attention\"\n",
    "\n",
    "args.batch_size = 32\n",
    "args.epochs = 20\n",
    "args.static = True\n",
    "\n",
    "args.hidden_size = 50\n",
    "args.layers_num = 3"
   ],
   "metadata": {
    "collapsed": false,
    "pycharm": {
     "name": "#%%\n"
    }
   }
  },
  {
   "cell_type": "code",
   "execution_count": 3,
   "outputs": [
    {
     "name": "stdout",
     "output_type": "stream",
     "text": [
      "Loading data...\n"
     ]
    },
    {
     "name": "stderr",
     "output_type": "stream",
     "text": [
      "The `device` argument should be set by using `torch.device` or passing a string as an argument. This behavior will be deprecated soon and currently defaults to cpu.\n",
      "The `device` argument should be set by using `torch.device` or passing a string as an argument. This behavior will be deprecated soon and currently defaults to cpu.\n"
     ]
    },
    {
     "name": "stdout",
     "output_type": "stream",
     "text": [
      "Loding data successfully\n"
     ]
    }
   ],
   "source": [
    "print('Loading data...')\n",
    "text_field = Field()\n",
    "label_field = Field(sequential=False,use_vocab=False,unk_token=None)\n",
    "train_iter, dev_iter = dataset.load_dataset(text_field, label_field, args, device=-1, repeat=False, shuffle=True)\n",
    "print(\"Loding data successfully\")"
   ],
   "metadata": {
    "collapsed": false,
    "pycharm": {
     "name": "#%%\n"
    }
   }
  },
  {
   "cell_type": "code",
   "execution_count": 4,
   "outputs": [
    {
     "name": "stdout",
     "output_type": "stream",
     "text": [
      "Model:BiLSTM_Attention\n",
      "Parameters:\n",
      "\tBATCH_SIZE=32\n",
      "\tCLASS_NUM=2\n",
      "\tCUDA=False\n",
      "\tDEVICE=-1\n",
      "\tDROPOUT=0.5\n",
      "\tEMBEDDING_DIM=300\n",
      "\tEPOCHS=20\n",
      "\tFILTER_NUM=100\n",
      "\tFILTER_SIZES=[1, 3, 5]\n",
      "\tHIDDEN_SIZE=50\n",
      "\tLAYERS_NUM=3\n",
      "\tLR=0.001\n",
      "\tMULTICHANNEL=False\n",
      "\tNON_STATIC=False\n",
      "\tPRETRAINED_NAME=sgns.wiki.word\n",
      "\tPRETRAINED_PATH=D:/python/pyprojects/NLP/Text Classification/data\n",
      "\tSAVE_DIR=D:/python/pyprojects/NLP/Text Classification/model/BiLSTM_Attention\n",
      "\tSTATIC=True\n",
      "\tVOCABULARY_SIZE=7877\n",
      "Epoch 0 Steps: 339/339 - loss: 0.671849  acc: 72.7273%(8/11)))\n",
      "\n",
      "Evaluating Epoch 0\n",
      "Evaluation - loss: 0.345170  f1: 0.5855  acc: 86.0362%\n",
      "Saving the best model, epoch : 0 f1 : 0.5855 acc: 86.0362%\n",
      "-----------------------------------------------------------\n",
      "Epoch 1 Steps: 339/339 - loss: 0.129700  acc: 100.0000%(11/11)\n",
      "\n",
      "Evaluating Epoch 1\n",
      "Evaluation - loss: 0.308247  f1: 0.6566  acc: 87.4030%\n",
      "Saving the best model, epoch : 1 f1 : 0.6566 acc: 87.4030%\n",
      "-----------------------------------------------------------\n",
      "Epoch 2 Steps: 339/339 - loss: 0.149649  acc: 90.9091%(10/11))\n",
      "\n",
      "Evaluating Epoch 2\n",
      "Evaluation - loss: 0.281093  f1: 0.7237  acc: 87.6986%\n",
      "Saving the best model, epoch : 2 f1 : 0.7237 acc: 87.6986%\n",
      "-----------------------------------------------------------\n",
      "Epoch 3 Steps: 339/339 - loss: 0.052693  acc: 100.0000%(11/11)\n",
      "\n",
      "Evaluating Epoch 3\n",
      "Evaluation - loss: 0.277896  f1: 0.7101  acc: 88.6590%\n",
      "-----------------------------------------------------------\n",
      "Epoch 4 Steps: 339/339 - loss: 0.096320  acc: 90.9091%(10/11))\n",
      "\n",
      "Evaluating Epoch 4\n",
      "Evaluation - loss: 0.279159  f1: 0.7321  acc: 89.2132%\n",
      "Saving the best model, epoch : 4 f1 : 0.7321 acc: 89.2132%\n",
      "-----------------------------------------------------------\n",
      "Epoch 5 Steps: 339/339 - loss: 0.257980  acc: 81.8182%(9/11)))\n",
      "\n",
      "Evaluating Epoch 5\n",
      "Evaluation - loss: 0.315041  f1: 0.7270  acc: 86.0731%\n",
      "-----------------------------------------------------------\n",
      "Epoch 6 Steps: 339/339 - loss: 0.280628  acc: 81.8182%(9/11)))\n",
      "\n",
      "Evaluating Epoch 6\n",
      "Evaluation - loss: 0.271440  f1: 0.7513  acc: 89.5826%\n",
      "Saving the best model, epoch : 6 f1 : 0.7513 acc: 89.5826%\n",
      "-----------------------------------------------------------\n",
      "Epoch 7 Steps: 339/339 - loss: 0.035746  acc: 100.0000%(11/11)\n",
      "\n",
      "Evaluating Epoch 7\n",
      "Evaluation - loss: 0.277458  f1: 0.7263  acc: 88.9176%\n",
      "-----------------------------------------------------------\n",
      "Epoch 8 Steps: 339/339 - loss: 0.175823  acc: 81.8182%(9/11)))\n",
      "\n",
      "Evaluating Epoch 8\n",
      "Evaluation - loss: 0.290752  f1: 0.7365  acc: 88.8437%\n",
      "-----------------------------------------------------------\n",
      "Epoch 9 Steps: 339/339 - loss: 0.152370  acc: 100.0000%(11/11)\n",
      "\n",
      "Evaluating Epoch 9\n",
      "Evaluation - loss: 0.324405  f1: 0.6800  acc: 88.1419%\n",
      "-----------------------------------------------------------\n",
      "Epoch 10 Steps: 339/339 - loss: 0.161693  acc: 90.9091%(10/11))\n",
      "\n",
      "Evaluating Epoch 10\n",
      "Evaluation - loss: 0.337064  f1: 0.7421  acc: 88.8068%\n",
      "-----------------------------------------------------------\n",
      "Epoch 11 Steps: 339/339 - loss: 0.089391  acc: 90.9091%(10/11))\n",
      "\n",
      "Evaluating Epoch 11\n",
      "Evaluation - loss: 0.318192  f1: 0.7395  acc: 88.3635%\n",
      "-----------------------------------------------------------\n",
      "Epoch 12 Steps: 339/339 - loss: 0.051007  acc: 100.0000%(11/11)\n",
      "\n",
      "Evaluating Epoch 12\n",
      "Evaluation - loss: 0.353379  f1: 0.7333  acc: 88.6590%\n",
      "-----------------------------------------------------------\n",
      "Epoch 13 Steps: 339/339 - loss: 0.048598  acc: 100.0000%(11/11)\n",
      "\n",
      "Evaluating Epoch 13\n",
      "Evaluation - loss: 0.429147  f1: 0.7076  acc: 88.7329%\n",
      "-----------------------------------------------------------\n",
      "Epoch 14 Steps: 339/339 - loss: 0.141240  acc: 100.0000%(11/11)\n",
      "\n",
      "Evaluating Epoch 14\n",
      "Evaluation - loss: 0.366884  f1: 0.7126  acc: 87.3661%\n",
      "-----------------------------------------------------------\n",
      "Epoch 15 Steps: 339/339 - loss: 0.168380  acc: 90.9091%(10/11))\n",
      "\n",
      "Evaluating Epoch 15\n",
      "Evaluation - loss: 0.465413  f1: 0.6692  acc: 84.2261%\n",
      "-----------------------------------------------------------\n",
      "Epoch 16 Steps: 339/339 - loss: 0.490429  acc: 81.8182%(9/11)))\n",
      "\n",
      "Evaluating Epoch 16\n",
      "Evaluation - loss: 0.429540  f1: 0.7246  acc: 88.0680%\n",
      "-----------------------------------------------------------\n",
      "Epoch 17 Steps: 339/339 - loss: 0.037204  acc: 100.0000%(11/11)\n",
      "\n",
      "Evaluating Epoch 17\n",
      "Evaluation - loss: 0.496737  f1: 0.7214  acc: 88.8437%\n",
      "-----------------------------------------------------------\n",
      "Epoch 18 Steps: 339/339 - loss: 0.010290  acc: 100.0000%(11/11)\n",
      "\n",
      "Evaluating Epoch 18\n",
      "Evaluation - loss: 0.450576  f1: 0.7086  acc: 87.8463%\n",
      "-----------------------------------------------------------\n",
      "Epoch 19 Steps: 339/339 - loss: 0.203303  acc: 90.9091%(10/11))\n",
      "\n",
      "Evaluating Epoch 19\n",
      "Evaluation - loss: 0.542094  f1: 0.7335  acc: 88.2157%\n",
      "-----------------------------------------------------------\n",
      "Stop Training. best model: epoch : 6 f1 : 0.7513 acc: 89.5826%\n"
     ]
    }
   ],
   "source": [
    "print(\"Model:BiLSTM_Attention\")\n",
    "print(\"Parameters:\")\n",
    "for attr, value in sorted(args.__dict__.items()):\n",
    "    if attr in {'vectors'}:\n",
    "        continue\n",
    "    print('\\t{}={}'.format(attr.upper(), value))\n",
    "\n",
    "bilstm_attention = model.BiLSTM_Attention(args)\n",
    "\"\"\"\n",
    "if args.cuda:\n",
    "    torch.cuda.set_device(args.device)\n",
    "    text_cnn = text_cnn.cuda()\n",
    "\"\"\"\n",
    "train.train(train_iter, dev_iter, bilstm_attention, args)\n",
    "\n"
   ],
   "metadata": {
    "collapsed": false,
    "pycharm": {
     "name": "#%%\n"
    }
   }
  }
 ],
 "metadata": {
  "kernelspec": {
   "display_name": "Python 3",
   "language": "python",
   "name": "python3"
  },
  "language_info": {
   "codemirror_mode": {
    "name": "ipython",
    "version": 2
   },
   "file_extension": ".py",
   "mimetype": "text/x-python",
   "name": "python",
   "nbconvert_exporter": "python",
   "pygments_lexer": "ipython2",
   "version": "2.7.6"
  }
 },
 "nbformat": 4,
 "nbformat_minor": 0
}