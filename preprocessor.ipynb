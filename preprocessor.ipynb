{
 "cells": [
  {
   "cell_type": "markdown",
   "metadata": {
    "collapsed": true,
    "pycharm": {
     "name": "#%% md\n"
    }
   },
   "source": [
    "### 文本预处理"
   ]
  },
  {
   "cell_type": "code",
   "execution_count": 1,
   "outputs": [],
   "source": [
    "import numpy as np\n",
    "import pandas as pd\n",
    "import jieba\n",
    "import os\n",
    "import pickle\n",
    "from tqdm import tqdm\n",
    "from collections import Counter\n"
   ],
   "metadata": {
    "collapsed": false,
    "pycharm": {
     "name": "#%%\n"
    }
   }
  },
  {
   "cell_type": "code",
   "execution_count": 2,
   "outputs": [],
   "source": [
    "# 导入原始数据\n",
    "teatext_df = pd.read_csv('data/teapro.csv', encoding=\"utf-8\")"
   ],
   "metadata": {
    "collapsed": false,
    "pycharm": {
     "name": "#%%\n"
    }
   }
  },
  {
   "cell_type": "code",
   "execution_count": 3,
   "outputs": [],
   "source": [
    "# 数据观察与缺失值、无关列处理\n",
    "teatext_df = teatext_df.drop([\"no\", \"displayUserNick\", \"rateDate\"], axis=1)\n",
    "teatext_df_preprocessed = teatext_df.dropna(axis=0).reset_index(drop=True)"
   ],
   "metadata": {
    "collapsed": false,
    "pycharm": {
     "name": "#%%\n"
    }
   }
  },
  {
   "cell_type": "code",
   "execution_count": 4,
   "outputs": [
    {
     "name": "stderr",
     "output_type": "stream",
     "text": [
      "Building prefix dict from the default dictionary ...\n",
      "Loading model from cache D:\\Temporary1\\jieba.cache\n",
      "Loading model cost 0.715 seconds.\n",
      "Prefix dict has been built successfully.\n"
     ]
    }
   ],
   "source": [
    "# 基于jieba的分词，以及停用词的删除\n",
    "with open(\"data/stopWord.json\", \"r\", encoding=\"utf-8\") as f:\n",
    "    stopWords = f.read().split(\"\\n\")\n",
    "stopWords.append(' ')\n",
    "stopWords.append(',')\n",
    "def comment_cut(content):\n",
    "    content_cut = list(jieba.cut(content.strip()))\n",
    "    content_rm_stop_word = [word for word in content_cut if word not in stopWords]\n",
    "\n",
    "    return content_rm_stop_word\n",
    "\n",
    "\n",
    "teatext_df_preprocessed['rateContent'] = teatext_df_preprocessed['rateContent'].apply(comment_cut)"
   ],
   "metadata": {
    "collapsed": false,
    "pycharm": {
     "name": "#%%\n"
    }
   }
  },
  {
   "cell_type": "code",
   "execution_count": 5,
   "outputs": [],
   "source": [
    "# 低频词删除\n",
    "wordCount = {}\n",
    "for c in teatext_df_preprocessed['rateContent']:\n",
    "    for w in c:\n",
    "        if w in wordCount:\n",
    "            wordCount[w] += 1\n",
    "        else:\n",
    "            wordCount[w] = 1\n",
    "\n",
    "\n",
    "def remove_low_freqen_word(c):\n",
    "    return [w for w in c if wordCount[w] >= 2]\n",
    "\n",
    "\n",
    "teatext_df_preprocessed['rateContent'] = teatext_df_preprocessed['rateContent'].apply(remove_low_freqen_word)"
   ],
   "metadata": {
    "collapsed": false,
    "pycharm": {
     "name": "#%%\n"
    }
   }
  },
  {
   "cell_type": "code",
   "execution_count": 6,
   "outputs": [],
   "source": [
    "drop_index = []\n",
    "for i in range(teatext_df_preprocessed.shape[0]):\n",
    "    if teatext_df_preprocessed[\"rateContent\"][i] == []:\n",
    "        drop_index.append(i)\n",
    "teatext_df_preprocessed = teatext_df_preprocessed.drop(drop_index)"
   ],
   "metadata": {
    "collapsed": false,
    "pycharm": {
     "name": "#%%\n"
    }
   }
  },
  {
   "cell_type": "code",
   "execution_count": 7,
   "outputs": [],
   "source": [
    "with open('data/teatext_preprocessed.pkl', 'wb') as f:\n",
    "    pickle.dump(teatext_df_preprocessed, f)\n"
   ],
   "metadata": {
    "collapsed": false,
    "pycharm": {
     "name": "#%%\n"
    }
   }
  }
 ],
 "metadata": {
  "kernelspec": {
   "display_name": "Python 3",
   "language": "python",
   "name": "python3"
  },
  "language_info": {
   "codemirror_mode": {
    "name": "ipython",
    "version": 2
   },
   "file_extension": ".py",
   "mimetype": "text/x-python",
   "name": "python",
   "nbconvert_exporter": "python",
   "pygments_lexer": "ipython2",
   "version": "2.7.6"
  }
 },
 "nbformat": 4,
 "nbformat_minor": 0
}