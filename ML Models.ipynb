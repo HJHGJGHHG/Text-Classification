{
 "cells": [
  {
   "cell_type": "markdown",
   "source": [
    "### 基于机器学习的多标签分类任务与情感二分类任务\n",
    "#### 1. 线性核SVM\n",
    "#### 2. 随机森林\n",
    "#### 3. 逻辑回归"
   ],
   "metadata": {
    "collapsed": false
   }
  },
  {
   "cell_type": "code",
   "execution_count": 7,
   "outputs": [],
   "source": [
    "import numpy as np\n",
    "import pandas as pd\n",
    "import pickle\n",
    "import scipy\n",
    "\n",
    "from pyecharts import options as opts\n",
    "from pyecharts.charts import Bar\n",
    "from pyecharts.globals import ThemeType\n",
    "from sklearn.ensemble import RandomForestClassifier\n",
    "from sklearn.linear_model import LogisticRegression\n",
    "from sklearn.model_selection import train_test_split\n",
    "from sklearn.multioutput import MultiOutputClassifier\n",
    "from sklearn.svm import SVC\n",
    "from Embedding import tfidf, word2vec\n",
    "from sklearn.metrics import accuracy_score, f1_score"
   ],
   "metadata": {
    "collapsed": false,
    "pycharm": {
     "name": "#%%\n"
    }
   }
  },
  {
   "cell_type": "markdown",
   "source": [
    "### Multilabel Classification"
   ],
   "metadata": {
    "collapsed": false,
    "pycharm": {
     "name": "#%% md\n"
    }
   }
  },
  {
   "cell_type": "code",
   "execution_count": 2,
   "outputs": [],
   "source": [
    "# text split\n",
    "with open('data/teatext_preprocessed.pkl', 'rb') as f:\n",
    "    teatext_preprocessed = pickle.load(f)\n",
    "train_data, test_data = train_test_split(teatext_preprocessed, test_size=0.2)\n",
    "\n",
    "x_train, x_test = train_data[\"rateContent\"], test_data[\"rateContent\"]\n",
    "y_train, y_test = train_data.drop([\"rateContent\",\"sentiment\"], axis=1), test_data.drop([\"rateContent\",\"sentiment\"], axis=1)\n",
    "y_sentiment_train,y_sentiment_test  = train_data[\"sentiment\"], test_data[\"sentiment\"]\n",
    "\n",
    "tfidf_train, tfidf_test = tfidf(x_train, x_test)\n",
    "word2vec_train = word2vec(x_train)\n",
    "word2vec_test = word2vec(x_test)"
   ],
   "metadata": {
    "collapsed": false,
    "pycharm": {
     "name": "#%%\n"
    }
   }
  },
  {
   "cell_type": "code",
   "execution_count": 3,
   "outputs": [],
   "source": [
    "def estimate(x_test, y_test, classifier):\n",
    "    \"\"\"\n",
    "    :param x_test: series or 1-d array\n",
    "    :param y_test: DataFrame\n",
    "    :param classifier: classifier\n",
    "    :return: acc score and f1 score\n",
    "    \"\"\"\n",
    "    TP, TN, FP, FN = 0, 0, 0, 0\n",
    "    value = y_test.values\n",
    "    y_pred = classifier.predict(x_test)\n",
    "    for i in range(value.shape[0]):\n",
    "        for j in range(value.shape[1]):\n",
    "            if value[i][j] == 1 and y_pred[i][j] == 1:\n",
    "                TP = TP + 1\n",
    "            elif value[i][j] == 0 and y_pred[i][j] == 0:\n",
    "                TN = TN + 1\n",
    "            elif value[i][j] == 0 and y_pred[i][j] == 1:\n",
    "                FP = FP + 1\n",
    "            elif value[i][j] == 1 and y_pred[i][j] == 0:\n",
    "                FN = FN + 1\n",
    "    f1 = 2 * TP / (2 * TP + FP + FN)\n",
    "\n",
    "    return classifier.score(x_test,y_test), f1"
   ],
   "metadata": {
    "collapsed": false,
    "pycharm": {
     "name": "#%%\n"
    }
   }
  },
  {
   "cell_type": "code",
   "execution_count": 4,
   "outputs": [],
   "source": [
    "# linear kernel SVM\n",
    "clf1 = MultiOutputClassifier(SVC(kernel='linear'))\n",
    "clf1.fit(tfidf_train,y_train)\n",
    "acc_1_tfidf, f1_1_tfidf = estimate(tfidf_test,y_test,clf1)\n",
    "\n",
    "clf1.fit(word2vec_train,y_train)\n",
    "acc_1_word2vec, f1_1_word2vec = estimate(word2vec_test,y_test,clf1)"
   ],
   "metadata": {
    "collapsed": false,
    "pycharm": {
     "name": "#%%\n"
    }
   }
  },
  {
   "cell_type": "code",
   "execution_count": 5,
   "outputs": [],
   "source": [
    "# Random Forest\n",
    "clf2 = MultiOutputClassifier(RandomForestClassifier(random_state=1),\n",
    "                             n_jobs=-1)\n",
    "clf2.fit(tfidf_train,y_train)\n",
    "acc_2_tfidf, f1_2_tfidf = estimate(tfidf_test,y_test,clf2)\n",
    "\n",
    "clf2.fit(word2vec_train,y_train)\n",
    "acc_2_word2vec, f1_2_word2vec = estimate(word2vec_test,y_test,clf2)"
   ],
   "metadata": {
    "collapsed": false,
    "pycharm": {
     "name": "#%%\n"
    }
   }
  },
  {
   "cell_type": "code",
   "execution_count": 6,
   "outputs": [
    {
     "name": "stderr",
     "output_type": "stream",
     "text": [
      "D:\\Anaconda3\\lib\\site-packages\\sklearn\\linear_model\\_logistic.py:763: ConvergenceWarning: lbfgs failed to converge (status=1):\n",
      "STOP: TOTAL NO. of ITERATIONS REACHED LIMIT.\n",
      "\n",
      "Increase the number of iterations (max_iter) or scale the data as shown in:\n",
      "    https://scikit-learn.org/stable/modules/preprocessing.html\n",
      "Please also refer to the documentation for alternative solver options:\n",
      "    https://scikit-learn.org/stable/modules/linear_model.html#logistic-regression\n",
      "  n_iter_i = _check_optimize_result(\n",
      "D:\\Anaconda3\\lib\\site-packages\\sklearn\\linear_model\\_logistic.py:763: ConvergenceWarning: lbfgs failed to converge (status=1):\n",
      "STOP: TOTAL NO. of ITERATIONS REACHED LIMIT.\n",
      "\n",
      "Increase the number of iterations (max_iter) or scale the data as shown in:\n",
      "    https://scikit-learn.org/stable/modules/preprocessing.html\n",
      "Please also refer to the documentation for alternative solver options:\n",
      "    https://scikit-learn.org/stable/modules/linear_model.html#logistic-regression\n",
      "  n_iter_i = _check_optimize_result(\n",
      "D:\\Anaconda3\\lib\\site-packages\\sklearn\\linear_model\\_logistic.py:763: ConvergenceWarning: lbfgs failed to converge (status=1):\n",
      "STOP: TOTAL NO. of ITERATIONS REACHED LIMIT.\n",
      "\n",
      "Increase the number of iterations (max_iter) or scale the data as shown in:\n",
      "    https://scikit-learn.org/stable/modules/preprocessing.html\n",
      "Please also refer to the documentation for alternative solver options:\n",
      "    https://scikit-learn.org/stable/modules/linear_model.html#logistic-regression\n",
      "  n_iter_i = _check_optimize_result(\n",
      "D:\\Anaconda3\\lib\\site-packages\\sklearn\\linear_model\\_logistic.py:763: ConvergenceWarning: lbfgs failed to converge (status=1):\n",
      "STOP: TOTAL NO. of ITERATIONS REACHED LIMIT.\n",
      "\n",
      "Increase the number of iterations (max_iter) or scale the data as shown in:\n",
      "    https://scikit-learn.org/stable/modules/preprocessing.html\n",
      "Please also refer to the documentation for alternative solver options:\n",
      "    https://scikit-learn.org/stable/modules/linear_model.html#logistic-regression\n",
      "  n_iter_i = _check_optimize_result(\n",
      "D:\\Anaconda3\\lib\\site-packages\\sklearn\\linear_model\\_logistic.py:763: ConvergenceWarning: lbfgs failed to converge (status=1):\n",
      "STOP: TOTAL NO. of ITERATIONS REACHED LIMIT.\n",
      "\n",
      "Increase the number of iterations (max_iter) or scale the data as shown in:\n",
      "    https://scikit-learn.org/stable/modules/preprocessing.html\n",
      "Please also refer to the documentation for alternative solver options:\n",
      "    https://scikit-learn.org/stable/modules/linear_model.html#logistic-regression\n",
      "  n_iter_i = _check_optimize_result(\n",
      "D:\\Anaconda3\\lib\\site-packages\\sklearn\\linear_model\\_logistic.py:763: ConvergenceWarning: lbfgs failed to converge (status=1):\n",
      "STOP: TOTAL NO. of ITERATIONS REACHED LIMIT.\n",
      "\n",
      "Increase the number of iterations (max_iter) or scale the data as shown in:\n",
      "    https://scikit-learn.org/stable/modules/preprocessing.html\n",
      "Please also refer to the documentation for alternative solver options:\n",
      "    https://scikit-learn.org/stable/modules/linear_model.html#logistic-regression\n",
      "  n_iter_i = _check_optimize_result(\n",
      "D:\\Anaconda3\\lib\\site-packages\\sklearn\\linear_model\\_logistic.py:763: ConvergenceWarning: lbfgs failed to converge (status=1):\n",
      "STOP: TOTAL NO. of ITERATIONS REACHED LIMIT.\n",
      "\n",
      "Increase the number of iterations (max_iter) or scale the data as shown in:\n",
      "    https://scikit-learn.org/stable/modules/preprocessing.html\n",
      "Please also refer to the documentation for alternative solver options:\n",
      "    https://scikit-learn.org/stable/modules/linear_model.html#logistic-regression\n",
      "  n_iter_i = _check_optimize_result(\n",
      "D:\\Anaconda3\\lib\\site-packages\\sklearn\\linear_model\\_logistic.py:763: ConvergenceWarning: lbfgs failed to converge (status=1):\n",
      "STOP: TOTAL NO. of ITERATIONS REACHED LIMIT.\n",
      "\n",
      "Increase the number of iterations (max_iter) or scale the data as shown in:\n",
      "    https://scikit-learn.org/stable/modules/preprocessing.html\n",
      "Please also refer to the documentation for alternative solver options:\n",
      "    https://scikit-learn.org/stable/modules/linear_model.html#logistic-regression\n",
      "  n_iter_i = _check_optimize_result(\n",
      "D:\\Anaconda3\\lib\\site-packages\\sklearn\\linear_model\\_logistic.py:763: ConvergenceWarning: lbfgs failed to converge (status=1):\n",
      "STOP: TOTAL NO. of ITERATIONS REACHED LIMIT.\n",
      "\n",
      "Increase the number of iterations (max_iter) or scale the data as shown in:\n",
      "    https://scikit-learn.org/stable/modules/preprocessing.html\n",
      "Please also refer to the documentation for alternative solver options:\n",
      "    https://scikit-learn.org/stable/modules/linear_model.html#logistic-regression\n",
      "  n_iter_i = _check_optimize_result(\n",
      "D:\\Anaconda3\\lib\\site-packages\\sklearn\\linear_model\\_logistic.py:763: ConvergenceWarning: lbfgs failed to converge (status=1):\n",
      "STOP: TOTAL NO. of ITERATIONS REACHED LIMIT.\n",
      "\n",
      "Increase the number of iterations (max_iter) or scale the data as shown in:\n",
      "    https://scikit-learn.org/stable/modules/preprocessing.html\n",
      "Please also refer to the documentation for alternative solver options:\n",
      "    https://scikit-learn.org/stable/modules/linear_model.html#logistic-regression\n",
      "  n_iter_i = _check_optimize_result(\n"
     ]
    }
   ],
   "source": [
    "# Logistic Regression\n",
    "clf3 = MultiOutputClassifier(LogisticRegression(C=5))\n",
    "\n",
    "clf3.fit(tfidf_train,y_train)\n",
    "acc_3_tfidf, f1_3_tfidf = estimate(tfidf_test,y_test,clf3)\n",
    "\n",
    "clf3.fit(word2vec_train,y_train)\n",
    "acc_3_word2vec, f1_3_word2vec = estimate(word2vec_test,y_test,clf3)\n"
   ],
   "metadata": {
    "collapsed": false,
    "pycharm": {
     "name": "#%%\n"
    }
   }
  },
  {
   "cell_type": "markdown",
   "source": [
    "### Sentiment Classification"
   ],
   "metadata": {
    "collapsed": false,
    "pycharm": {
     "name": "#%% md\n"
    }
   }
  },
  {
   "cell_type": "code",
   "execution_count": 9,
   "outputs": [],
   "source": [
    "# linear kernel SVM\n",
    "clf4 = SVC(kernel='linear')\n",
    "clf4.fit(tfidf_train,y_sentiment_train)\n",
    "acc_4_tfidf = clf4.score(tfidf_test,y_sentiment_test)\n",
    "f1_4_tfidf = f1_score(y_sentiment_test,clf4.predict(tfidf_test))\n",
    "\n",
    "clf4.fit(word2vec_train,y_sentiment_train)\n",
    "acc_4_word2vec = clf4.score(word2vec_test,y_sentiment_test)\n",
    "f1_4_word2vec = f1_score(y_sentiment_test,clf4.predict(word2vec_test))"
   ],
   "metadata": {
    "collapsed": false,
    "pycharm": {
     "name": "#%%\n"
    }
   }
  },
  {
   "cell_type": "code",
   "execution_count": 10,
   "outputs": [],
   "source": [
    "# Random Forest\n",
    "clf5 = RandomForestClassifier(random_state=1)\n",
    "clf5.fit(tfidf_train,y_sentiment_train)\n",
    "acc_5_tfidf = clf5.score(tfidf_test,y_sentiment_test)\n",
    "f1_5_tfidf = f1_score(y_sentiment_test,clf5.predict(tfidf_test))\n",
    "\n",
    "clf5.fit(word2vec_train,y_sentiment_train)\n",
    "acc_5_word2vec = clf5.score(word2vec_test,y_sentiment_test)\n",
    "f1_5_word2vec = f1_score(y_sentiment_test,clf5.predict(word2vec_test))"
   ],
   "metadata": {
    "collapsed": false,
    "pycharm": {
     "name": "#%%\n"
    }
   }
  },
  {
   "cell_type": "code",
   "execution_count": 11,
   "outputs": [
    {
     "name": "stderr",
     "output_type": "stream",
     "text": [
      "D:\\Anaconda3\\lib\\site-packages\\sklearn\\linear_model\\_logistic.py:763: ConvergenceWarning: lbfgs failed to converge (status=1):\n",
      "STOP: TOTAL NO. of ITERATIONS REACHED LIMIT.\n",
      "\n",
      "Increase the number of iterations (max_iter) or scale the data as shown in:\n",
      "    https://scikit-learn.org/stable/modules/preprocessing.html\n",
      "Please also refer to the documentation for alternative solver options:\n",
      "    https://scikit-learn.org/stable/modules/linear_model.html#logistic-regression\n",
      "  n_iter_i = _check_optimize_result(\n",
      "D:\\Anaconda3\\lib\\site-packages\\sklearn\\linear_model\\_logistic.py:763: ConvergenceWarning: lbfgs failed to converge (status=1):\n",
      "STOP: TOTAL NO. of ITERATIONS REACHED LIMIT.\n",
      "\n",
      "Increase the number of iterations (max_iter) or scale the data as shown in:\n",
      "    https://scikit-learn.org/stable/modules/preprocessing.html\n",
      "Please also refer to the documentation for alternative solver options:\n",
      "    https://scikit-learn.org/stable/modules/linear_model.html#logistic-regression\n",
      "  n_iter_i = _check_optimize_result(\n"
     ]
    }
   ],
   "source": [
    "# Logistic Regression\n",
    "clf6 = LogisticRegression(C=5)\n",
    "clf6.fit(tfidf_train,y_sentiment_train)\n",
    "acc_6_tfidf = clf6.score(tfidf_test,y_sentiment_test)\n",
    "f1_6_tfidf = f1_score(y_sentiment_test,clf6.predict(tfidf_test))\n",
    "\n",
    "clf6.fit(word2vec_train,y_sentiment_train)\n",
    "acc_6_word2vec = clf6.score(word2vec_test,y_sentiment_test)\n",
    "f1_6_word2vec = f1_score(y_sentiment_test,clf6.predict(word2vec_test))"
   ],
   "metadata": {
    "collapsed": false,
    "pycharm": {
     "name": "#%%\n"
    }
   }
  }
 ],
 "metadata": {
  "kernelspec": {
   "display_name": "Python 3",
   "language": "python",
   "name": "python3"
  },
  "language_info": {
   "codemirror_mode": {
    "name": "ipython",
    "version": 2
   },
   "file_extension": ".py",
   "mimetype": "text/x-python",
   "name": "python",
   "nbconvert_exporter": "python",
   "pygments_lexer": "ipython2",
   "version": "2.7.6"
  }
 },
 "nbformat": 4,
 "nbformat_minor": 0
}